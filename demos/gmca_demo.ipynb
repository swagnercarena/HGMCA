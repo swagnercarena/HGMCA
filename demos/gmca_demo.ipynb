{
 "cells": [
  {
   "cell_type": "code",
   "execution_count": null,
   "metadata": {},
   "outputs": [],
   "source": [
    "import sys\n",
    "# Add folder containing base gmca and hgmca files to path.\n",
    "sys.path.insert(0, \"../hgmca\")\n",
    "import numpy as np\n",
    "from gmca import *\n",
    "import healpy as hp\n",
    "from test_helpers import cmb_test_data\n",
    "import wavelet, helpers, pickle\n",
    "\n",
    "# The frequency maps we want to write out.\n",
    "freq = [23,90,350]\n",
    "f_row = [0,1,6]\n",
    "# Parameters for our wavelet transform\n",
    "band_lim = 621\n",
    "wav_b = 3\n",
    "min_scale = 1\n",
    "samp = 0\n",
    "nside = 256\n",
    "orig_cmb = hp.read_map('/n/home09/swagnercarena/cmb_maps/input_maps/maps_s2/'\n",
    "\t+'all_cmb_sim_id_90_GHZ.fits',verbose=False)\n",
    "mask = None\n",
    "mask_address = '/n/home09/swagnercarena/cmb_maps/input_maps/planck_mask.fits'\n",
    "orig_cmb_mask, mask = helpers.mask_hpx_map(orig_cmb,mask_address,\n",
    "\tcutoff=0.5,average=False,return_mask=True,mask=mask)\n",
    "# We only need one prefix since we can just clean it out each time after\n",
    "# we use it.\n",
    "prefix = '/n/home09/swagnercarena/cmb_maps/hgmca/f2_'\n",
    "hpx_map_prefix = prefix + 'hgmca_t'\n",
    "wav_map_prefix = (hpx_map_prefix + '%d%d%d%s%d%d%d%d%d%d%d'%(\n",
    "\t\tn_sources,lam_s,lam_p_v/1e10,norm[0],rseed,m_level,gmca_iterations,\n",
    "\t\trmse_rate,use_lam_p_scaling,use_A_cmb,np.log10(A_cmb_p)))\n",
    "# The initial data is constant for our other parameters, so we can\n",
    "# load the data here\n",
    "print('Getting data and setting up wavelet transform')\n",
    "X , A_cmb, nside_list = cmb_test_data(nside_list=True,\n",
    "\tall_foreground_map=True,use_mask=use_mask,use_s2=True)\n",
    "wav_t = wavelet.AxisymWaveletTransformation(wav_b,min_scale,\n",
    "\t\tband_lim,samp=samp)\n",
    "wav_t.set_nside_list(nside_list)\n",
    "# wav_t.hgmca_calc_wav_lim_list(nside,wav_map_prefix)\n",
    "# print(wav_t.wav_lim_list)\n",
    "wav_t.set_wav_lim_list([0, 0, 0, 2, 3, 5, 6])\n",
    "lam_p = lam_p_v * np.ones(n_sources)\n",
    "normalizer = helpers.NormalizationClass(norm)\n",
    "X_n = normalizer.normalize_hpx_data(X,wav_t=wav_t)\n",
    "A_n = normalizer.normalize_A_col(A_cmb)\n",
    "rmse_error_list = []\n",
    "loss_list = []\n",
    "A_hier = None\n",
    "S = None"
   ]
  }
 ],
 "metadata": {
  "kernelspec": {
   "display_name": "Python 3",
   "language": "python",
   "name": "python3"
  },
  "language_info": {
   "codemirror_mode": {
    "name": "ipython",
    "version": 3
   },
   "file_extension": ".py",
   "mimetype": "text/x-python",
   "name": "python",
   "nbconvert_exporter": "python",
   "pygments_lexer": "ipython3",
   "version": "3.6.6"
  }
 },
 "nbformat": 4,
 "nbformat_minor": 2
}
