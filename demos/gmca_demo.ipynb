{
 "cells": [
  {
   "cell_type": "code",
   "execution_count": 1,
   "metadata": {},
   "outputs": [],
   "source": [
    "from hgmca import wavelets, gmca\n",
    "import healpy as hp\n",
    "import numpy as np\n",
    "import time\n",
    "%matplotlib inline\n",
    "\n",
    "def NOTIMPLEMENTED():\n",
    "    raise NotImplementedError('Must specify config path')\n",
    "    \n",
    "# Pull up a nice Planck colormap\n",
    "from matplotlib.colors import ListedColormap\n",
    "colombi1_cmap = ListedColormap(np.loadtxt(\"Planck_Parchment_RGB.txt\")/255.)\n",
    "colombi1_cmap.set_bad(\"gray\") # color of missing pixels\n",
    "colombi1_cmap.set_under(\"white\") # color of background, necessary if you want to use"
   ]
  },
  {
   "cell_type": "markdown",
   "metadata": {},
   "source": [
    "# Running GMCA to get CMB Reconstruction\n",
    "\n",
    "__Authors:__ Sebastian Wagner-Carena and Max Hopkins\n",
    "\n",
    "__Created:__ 2/15/2020\n",
    "\n",
    "__Last Run:__ 2/16/2020\n",
    "\n",
    "__Goals:__ Show how to go from measurements of the CMB to a reconstructed CMB map using GMCA.\n",
    "\n",
    "__Requirements:__ Follow the installation instructions to install s2let and hgmca."
   ]
  },
  {
   "cell_type": "markdown",
   "metadata": {},
   "source": [
    "The first step to running GMCA on our maps is to transform our healpix maps into wavelet coefficients. With the AxisymWaveletTransformation in wavelets this is fairly easy.\n",
    "\n",
    "For information on the parameters of the wavelet transformations being used here see the [s2let website](http://astro-informatics.github.io/s2let/)."
   ]
  },
  {
   "cell_type": "code",
   "execution_count": 2,
   "metadata": {},
   "outputs": [],
   "source": [
    "# Specify the parameters of our wavelet transformation.\n",
    "wav_b = 3\n",
    "min_scale = 1\n",
    "band_lim = 625\n",
    "\n",
    "# Specify the path to the s2let installation\n",
    "s2let_path = '/Users/maxhopkins/desktop/s2let'#NOTIMPLEMENTED()\n",
    "\n",
    "# Samp of 0 uses the minimum sampling for each wavelet coefficient map that still preserves the fidelity of the \n",
    "# transformation. This saves memory\n",
    "samp = 0\n",
    "wav_class = wavelets.AxisymWaveletTransformation(wav_b,min_scale,band_lim,s2let_path=s2let_path,samp=samp)"
   ]
  },
  {
   "cell_type": "markdown",
   "metadata": {},
   "source": [
    "Now we can run through each of fits maps (one per frequency) and turn them into wavelet coefficients"
   ]
  },
  {
   "cell_type": "code",
   "execution_count": 3,
   "metadata": {},
   "outputs": [
    {
     "name": "stdout",
     "output_type": "stream",
     "text": [
      "Working on map ../maps/CMB_23_GHZ.fits... "
     ]
    },
    {
     "ename": "FileNotFoundError",
     "evalue": "[Errno 2] No such file or directory: '/Users/maxhopkins/desktop/s2let/bin/s2let_transform_analysis_hpx_multi': '/Users/maxhopkins/desktop/s2let/bin/s2let_transform_analysis_hpx_multi'",
     "output_type": "error",
     "traceback": [
      "\u001b[0;31m---------------------------------------------------------------------------\u001b[0m",
      "\u001b[0;31mFileNotFoundError\u001b[0m                         Traceback (most recent call last)",
      "\u001b[0;32m<ipython-input-3-7b3189822bd8>\u001b[0m in \u001b[0;36m<module>\u001b[0;34m\u001b[0m\n\u001b[1;32m     12\u001b[0m \u001b[0;32mfor\u001b[0m \u001b[0minput_map\u001b[0m \u001b[0;32min\u001b[0m \u001b[0minput_maps\u001b[0m\u001b[0;34m:\u001b[0m\u001b[0;34m\u001b[0m\u001b[0m\n\u001b[1;32m     13\u001b[0m     \u001b[0mprint\u001b[0m\u001b[0;34m(\u001b[0m\u001b[0;34m'Working on map %s... '\u001b[0m\u001b[0;34m%\u001b[0m\u001b[0;34m(\u001b[0m\u001b[0minput_map\u001b[0m\u001b[0;34m)\u001b[0m\u001b[0;34m,\u001b[0m\u001b[0mend\u001b[0m\u001b[0;34m=\u001b[0m\u001b[0;34m\"\"\u001b[0m\u001b[0;34m)\u001b[0m\u001b[0;34m\u001b[0m\u001b[0m\n\u001b[0;32m---> 14\u001b[0;31m     \u001b[0mX\u001b[0m\u001b[0;34m.\u001b[0m\u001b[0mappend\u001b[0m\u001b[0;34m(\u001b[0m\u001b[0mwav_class\u001b[0m\u001b[0;34m.\u001b[0m\u001b[0mget_wavelet_coeff\u001b[0m\u001b[0;34m(\u001b[0m\u001b[0minput_map\u001b[0m\u001b[0;34m,\u001b[0m\u001b[0mwav_map_prefix\u001b[0m\u001b[0;34m)\u001b[0m\u001b[0;34m)\u001b[0m\u001b[0;34m\u001b[0m\u001b[0m\n\u001b[0m\u001b[1;32m     15\u001b[0m     \u001b[0mprint\u001b[0m\u001b[0;34m(\u001b[0m\u001b[0;34m'Done'\u001b[0m\u001b[0;34m)\u001b[0m\u001b[0;34m\u001b[0m\u001b[0m\n\u001b[1;32m     16\u001b[0m \u001b[0;34m\u001b[0m\u001b[0m\n",
      "\u001b[0;32m~/Desktop/hgmca/hgmca/wavelets.py\u001b[0m in \u001b[0;36mget_wavelet_coeff\u001b[0;34m(self, hpx_map_file, wav_map_prefix)\u001b[0m\n\u001b[1;32m    181\u001b[0m                 \u001b[0;31m# if they are.\u001b[0m\u001b[0;34m\u001b[0m\u001b[0;34m\u001b[0m\u001b[0m\n\u001b[1;32m    182\u001b[0m \t\tself._s2let_generate_wavelet_maps(hpx_map_file,wav_map_prefix,\n\u001b[0;32m--> 183\u001b[0;31m \t\t\tstdout=FNULL)\n\u001b[0m\u001b[1;32m    184\u001b[0m                 \u001b[0mwav_coeff\u001b[0m \u001b[0;34m=\u001b[0m \u001b[0mself\u001b[0m\u001b[0;34m.\u001b[0m\u001b[0m_np_wavelet_coefficients_from_prefix\u001b[0m\u001b[0;34m(\u001b[0m\u001b[0mwav_map_prefix\u001b[0m\u001b[0;34m)\u001b[0m\u001b[0;34m\u001b[0m\u001b[0m\n\u001b[1;32m    185\u001b[0m                 \u001b[0mFNULL\u001b[0m\u001b[0;34m.\u001b[0m\u001b[0mclose\u001b[0m\u001b[0;34m(\u001b[0m\u001b[0;34m)\u001b[0m\u001b[0;34m\u001b[0m\u001b[0m\n",
      "\u001b[0;32m~/Desktop/hgmca/hgmca/wavelets.py\u001b[0m in \u001b[0;36m_s2let_generate_wavelet_maps\u001b[0;34m(self, orig_map_file, wav_map_prefix, stdout)\u001b[0m\n\u001b[1;32m     59\u001b[0m \t\tsubprocess.call([self.s2let_bin + 's2let_transform_analysis_hpx_multi', \n\u001b[1;32m     60\u001b[0m                         \u001b[0morig_map_file\u001b[0m\u001b[0;34m,\u001b[0m \u001b[0mstr\u001b[0m\u001b[0;34m(\u001b[0m\u001b[0mself\u001b[0m\u001b[0;34m.\u001b[0m\u001b[0mwav_b\u001b[0m\u001b[0;34m)\u001b[0m\u001b[0;34m,\u001b[0m \u001b[0mstr\u001b[0m\u001b[0;34m(\u001b[0m\u001b[0mself\u001b[0m\u001b[0;34m.\u001b[0m\u001b[0mmin_scale\u001b[0m\u001b[0;34m)\u001b[0m\u001b[0;34m,\u001b[0m\u001b[0;34m\u001b[0m\u001b[0m\n\u001b[0;32m---> 61\u001b[0;31m \t\t\tstr(self.band_lim), wav_map_prefix, str(self.samp)])\n\u001b[0m\u001b[1;32m     62\u001b[0m \u001b[0;34m\u001b[0m\u001b[0m\n\u001b[1;32m     63\u001b[0m \tdef _s2let_generate_recon_map(self, wav_map_prefix, recon_map_file, nside, \n",
      "\u001b[0;32m/anaconda3/lib/python3.6/subprocess.py\u001b[0m in \u001b[0;36mcall\u001b[0;34m(timeout, *popenargs, **kwargs)\u001b[0m\n\u001b[1;32m    265\u001b[0m     \u001b[0mretcode\u001b[0m \u001b[0;34m=\u001b[0m \u001b[0mcall\u001b[0m\u001b[0;34m(\u001b[0m\u001b[0;34m[\u001b[0m\u001b[0;34m\"ls\"\u001b[0m\u001b[0;34m,\u001b[0m \u001b[0;34m\"-l\"\u001b[0m\u001b[0;34m]\u001b[0m\u001b[0;34m)\u001b[0m\u001b[0;34m\u001b[0m\u001b[0m\n\u001b[1;32m    266\u001b[0m     \"\"\"\n\u001b[0;32m--> 267\u001b[0;31m     \u001b[0;32mwith\u001b[0m \u001b[0mPopen\u001b[0m\u001b[0;34m(\u001b[0m\u001b[0;34m*\u001b[0m\u001b[0mpopenargs\u001b[0m\u001b[0;34m,\u001b[0m \u001b[0;34m**\u001b[0m\u001b[0mkwargs\u001b[0m\u001b[0;34m)\u001b[0m \u001b[0;32mas\u001b[0m \u001b[0mp\u001b[0m\u001b[0;34m:\u001b[0m\u001b[0;34m\u001b[0m\u001b[0m\n\u001b[0m\u001b[1;32m    268\u001b[0m         \u001b[0;32mtry\u001b[0m\u001b[0;34m:\u001b[0m\u001b[0;34m\u001b[0m\u001b[0m\n\u001b[1;32m    269\u001b[0m             \u001b[0;32mreturn\u001b[0m \u001b[0mp\u001b[0m\u001b[0;34m.\u001b[0m\u001b[0mwait\u001b[0m\u001b[0;34m(\u001b[0m\u001b[0mtimeout\u001b[0m\u001b[0;34m=\u001b[0m\u001b[0mtimeout\u001b[0m\u001b[0;34m)\u001b[0m\u001b[0;34m\u001b[0m\u001b[0m\n",
      "\u001b[0;32m/anaconda3/lib/python3.6/subprocess.py\u001b[0m in \u001b[0;36m__init__\u001b[0;34m(self, args, bufsize, executable, stdin, stdout, stderr, preexec_fn, close_fds, shell, cwd, env, universal_newlines, startupinfo, creationflags, restore_signals, start_new_session, pass_fds, encoding, errors)\u001b[0m\n\u001b[1;32m    707\u001b[0m                                 \u001b[0mc2pread\u001b[0m\u001b[0;34m,\u001b[0m \u001b[0mc2pwrite\u001b[0m\u001b[0;34m,\u001b[0m\u001b[0;34m\u001b[0m\u001b[0m\n\u001b[1;32m    708\u001b[0m                                 \u001b[0merrread\u001b[0m\u001b[0;34m,\u001b[0m \u001b[0merrwrite\u001b[0m\u001b[0;34m,\u001b[0m\u001b[0;34m\u001b[0m\u001b[0m\n\u001b[0;32m--> 709\u001b[0;31m                                 restore_signals, start_new_session)\n\u001b[0m\u001b[1;32m    710\u001b[0m         \u001b[0;32mexcept\u001b[0m\u001b[0;34m:\u001b[0m\u001b[0;34m\u001b[0m\u001b[0m\n\u001b[1;32m    711\u001b[0m             \u001b[0;31m# Cleanup if the child failed starting.\u001b[0m\u001b[0;34m\u001b[0m\u001b[0;34m\u001b[0m\u001b[0m\n",
      "\u001b[0;32m/anaconda3/lib/python3.6/subprocess.py\u001b[0m in \u001b[0;36m_execute_child\u001b[0;34m(self, args, executable, preexec_fn, close_fds, pass_fds, cwd, env, startupinfo, creationflags, shell, p2cread, p2cwrite, c2pread, c2pwrite, errread, errwrite, restore_signals, start_new_session)\u001b[0m\n\u001b[1;32m   1342\u001b[0m                         \u001b[0;32mif\u001b[0m \u001b[0merrno_num\u001b[0m \u001b[0;34m==\u001b[0m \u001b[0merrno\u001b[0m\u001b[0;34m.\u001b[0m\u001b[0mENOENT\u001b[0m\u001b[0;34m:\u001b[0m\u001b[0;34m\u001b[0m\u001b[0m\n\u001b[1;32m   1343\u001b[0m                             \u001b[0merr_msg\u001b[0m \u001b[0;34m+=\u001b[0m \u001b[0;34m': '\u001b[0m \u001b[0;34m+\u001b[0m \u001b[0mrepr\u001b[0m\u001b[0;34m(\u001b[0m\u001b[0merr_filename\u001b[0m\u001b[0;34m)\u001b[0m\u001b[0;34m\u001b[0m\u001b[0m\n\u001b[0;32m-> 1344\u001b[0;31m                     \u001b[0;32mraise\u001b[0m \u001b[0mchild_exception_type\u001b[0m\u001b[0;34m(\u001b[0m\u001b[0merrno_num\u001b[0m\u001b[0;34m,\u001b[0m \u001b[0merr_msg\u001b[0m\u001b[0;34m,\u001b[0m \u001b[0merr_filename\u001b[0m\u001b[0;34m)\u001b[0m\u001b[0;34m\u001b[0m\u001b[0m\n\u001b[0m\u001b[1;32m   1345\u001b[0m                 \u001b[0;32mraise\u001b[0m \u001b[0mchild_exception_type\u001b[0m\u001b[0;34m(\u001b[0m\u001b[0merr_msg\u001b[0m\u001b[0;34m)\u001b[0m\u001b[0;34m\u001b[0m\u001b[0m\n\u001b[1;32m   1346\u001b[0m \u001b[0;34m\u001b[0m\u001b[0m\n",
      "\u001b[0;31mFileNotFoundError\u001b[0m: [Errno 2] No such file or directory: '/Users/maxhopkins/desktop/s2let/bin/s2let_transform_analysis_hpx_multi': '/Users/maxhopkins/desktop/s2let/bin/s2let_transform_analysis_hpx_multi'"
     ]
    }
   ],
   "source": [
    "# We will call the input data in the wavelet space X.\n",
    "X = []\n",
    "\n",
    "# Specify a prefix were our wavelet coefficient maps will be saved\n",
    "wav_map_prefix = 'temp/wav'\n",
    "\n",
    "# We specify the list of maps\n",
    "input_map_dir = '../maps/'\n",
    "input_maps = [input_map_dir+'CMB_%d_GHZ.fits'%(freq) for freq in [23,90,120,160,210,280,350]]\n",
    "\n",
    "# Get the wavelet coefficients for each map\n",
    "for input_map in input_maps:\n",
    "    print('Working on map %s... '%(input_map),end=\"\")\n",
    "    X.append(wav_class.get_wavelet_coeff(input_map,wav_map_prefix))\n",
    "    print('Done')\n",
    "    \n",
    "# Turn our final X into a numpy array\n",
    "X = np.array(X)"
   ]
  },
  {
   "cell_type": "markdown",
   "metadata": {},
   "source": [
    "Let's check that, if we take one of our maps at random, we get back an accurate reconstruction"
   ]
  },
  {
   "cell_type": "code",
   "execution_count": null,
   "metadata": {},
   "outputs": [],
   "source": [
    "# Pick a frequency\n",
    "check_index = 2\n",
    "orig_map_path = input_maps[check_index]\n",
    "print('Checking map %s'%(orig_map_path))\n",
    "\n",
    "# Create a map from the wavelet coefficients. We have to specify the nside since it's not deterministic!\n",
    "temp_map_path = 'temp/temp.fits'\n",
    "nside = 256\n",
    "wav_class.get_map_from_wavelet_coeff(temp_map_path,nside,wav_map_prefix,X[check_index])\n",
    "\n",
    "# Now let's view our original map and the reconstructed map\n",
    "original_map = hp.read_map(orig_map_path,verbose=False)\n",
    "hp.mollview(original_map,min=-300,max=300,title='Original Map',cmap=colombi1_cmap,unit='$\\mu K$')\n",
    "\n",
    "# And let's look at the reconstructed map\n",
    "reconstructed_map = hp.read_map(temp_map_path,verbose=False)\n",
    "hp.mollview(reconstructed_map,min=-300,max=300,title='Reconstructed Map',cmap=colombi1_cmap,unit='$\\mu K$')\n",
    "\n",
    "# And finally at their difference\n",
    "hp.mollview(original_map-reconstructed_map,min=-3,max=3,title='Difference Map',cmap=colombi1_cmap,unit='$\\mu K$')\n"
   ]
  },
  {
   "cell_type": "markdown",
   "metadata": {},
   "source": [
    "Now we can do a few iterations of GMCA to get the reconstructed map!"
   ]
  },
  {
   "cell_type": "code",
   "execution_count": null,
   "metadata": {},
   "outputs": [],
   "source": [
    "# We have to specify a few parameters for GMCA. First, the number of source and the number of iterations.\n",
    "n_sources = 5\n",
    "n_iterations = 500\n",
    "\n",
    "# Next the lambda parameters. We need a lam_s for the sparsity prior. We'll set this to 50 since that's the right\n",
    "# order of magnitude.\n",
    "lam_s = 80\n",
    "\n",
    "# Next we need to specify the prior on our mixing matrix. We'll specify a VERY strong prior that we expect to see\n",
    "# a source like the CMB, and then no priors beyond that.\n",
    "A_p = np.zeros((X.shape[0],n_sources))\n",
    "# Set the first column to the CMB. Since our maps are in K_cmb, this is just 1 for all columns (normalized such'\n",
    "# that the L2 norm of the column is 1).\n",
    "A_p[:,0] = 1/np.sqrt(X.shape[0])\n",
    "# Make this prior very strong. We need one prior per column.\n",
    "lam_p = [1e11,0.0,0.0,0.0,0.0]\n",
    "\n",
    "# Finally we can specify a min_rmse_rate. This forces the algorithm to return the min rmse every certain number of\n",
    "# steps. A rate of 100 usually works well.\n",
    "min_rmse_rate = 100\n",
    "\n",
    "# If you want to get the same results out every time you run the notebook, set the random seed to a number \n",
    "# that isn't 0\n",
    "seed = 0\n",
    "\n",
    "# Now we can run the algorithm and see what we get out! This will take a few minutes depending on the speed\n",
    "# of your computer.\n",
    "print('Running gmca'); start = time.time();\n",
    "A,S = gmca.gmca(X,n_sources,n_iterations,A_p=A_p,lam_p=lam_p,lam_s=lam_s,min_rmse_rate=min_rmse_rate,seed=seed)\n",
    "print('GMCA took %d seconds'%(time.time()-start))"
   ]
  },
  {
   "cell_type": "markdown",
   "metadata": {},
   "source": [
    "Normally we would have to find the column that most correspond to the CMB, but given our very strong prior we know that it's the first column. So we can just pull out the corresponding source and look at the reconstructed map!"
   ]
  },
  {
   "cell_type": "code",
   "execution_count": null,
   "metadata": {},
   "outputs": [],
   "source": [
    "# Create a map from the wavelet coefficients. We have to specify the nside since it's not deterministic!\n",
    "cmb_path = 'temp/recon_cmb.fits'\n",
    "nside = 256\n",
    "# Note that, in K_CMB units, we get the CMB is the same at all frequencies. So we will get the same output\n",
    "# no matter what frequency we chose here.\n",
    "freq_index = 0\n",
    "cmb_index = 0\n",
    "wav_class.get_map_from_wavelet_coeff(cmb_path,nside,wav_map_prefix,A[freq_index,cmb_index]*S[cmb_index])\n",
    "\n",
    "# Now let's view our cmb map.\n",
    "cmb_map = hp.read_map(cmb_path,verbose=False)\n",
    "hp.mollview(cmb_map,min=-300,max=300,title='CMB Map',cmap=colombi1_cmap,unit='$\\mu K$')"
   ]
  },
  {
   "cell_type": "markdown",
   "metadata": {},
   "source": [
    "To get good results will require running the algorithm for a bit longer than 400 steps. Thankfully, we have the converged mixing matrix on hand (run for 80000 steps)."
   ]
  },
  {
   "cell_type": "code",
   "execution_count": null,
   "metadata": {},
   "outputs": [],
   "source": [
    "# Load the mixing matrix and calculate S as the pseudo inverse\n",
    "A = np.load('../results/gmca/A_mat_gmca_lams_80_lamp_1e11.npy')\n",
    "S = np.matmul(np.linalg.pinv(A),X)\n",
    "\n",
    "# Create a map from the wavelet coefficients. We have to specify the nside since it's not deterministic!\n",
    "cmb_path = 'temp/recon_cmb.fits'\n",
    "nside = 256\n",
    "# Note that, in K_CMB units, we get the CMB is the same at all frequencies. So we will get the same output\n",
    "# no matter what frequency we chose here.\n",
    "freq_index = 0\n",
    "cmb_index = 0\n",
    "wav_class.get_map_from_wavelet_coeff(cmb_path,nside,wav_map_prefix,A[freq_index,cmb_index]*S[cmb_index])\n",
    "\n",
    "# Now let's view our cmb map.\n",
    "cmb_map = hp.read_map(cmb_path,verbose=False)\n",
    "hp.mollview(cmb_map,min=-300,max=300,title='CMB Map',cmap=colombi1_cmap,unit='$\\mu K$')"
   ]
  }
 ],
 "metadata": {
  "kernelspec": {
   "display_name": "Python 3",
   "language": "python",
   "name": "python3"
  },
  "language_info": {
   "codemirror_mode": {
    "name": "ipython",
    "version": 3
   },
   "file_extension": ".py",
   "mimetype": "text/x-python",
   "name": "python",
   "nbconvert_exporter": "python",
   "pygments_lexer": "ipython3",
   "version": "3.6.6"
  }
 },
 "nbformat": 4,
 "nbformat_minor": 2
}
