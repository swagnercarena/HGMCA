{
 "cells": [
  {
   "cell_type": "code",
   "execution_count": null,
   "metadata": {},
   "outputs": [],
   "source": [
    "from hgmca import wavelets_hgmca, hgmca_core, helpers\n",
    "import healpy as hp\n",
    "import numpy as np\n",
    "import pysm3\n",
    "import pysm3.units as u\n",
    "import warnings, os\n",
    "import matplotlib.pyplot as plt\n",
    "warnings.filterwarnings(\"ignore\")\n",
    "%matplotlib inline\n",
    "a2r = np.pi/180/60\n",
    "root_path = os.getcwd()\n",
    "    \n",
    "# Pull up a nice Planck colormap\n",
    "from matplotlib.colors import ListedColormap\n",
    "colombi1_cmap = ListedColormap(np.loadtxt(\"Planck_Parchment_RGB.txt\")/255.)\n",
    "colombi1_cmap.set_bad(\"gray\") # color of missing pixels\n",
    "colombi1_cmap.set_under(\"white\") # color of background, necessary if you want to use"
   ]
  },
  {
   "cell_type": "markdown",
   "metadata": {},
   "source": [
    "# Running HGMCA to get CMB Reconstruction\n",
    "\n",
    "__Authors:__ Sebastian Wagner-Carena and Max Hopkins\n",
    "\n",
    "__Created:__ 1/14/2020\n",
    "\n",
    "__Goals:__ Show how to go from measurements of the CMB to a reconstructed CMB map using HGMCA. While the example here focuses on the CMB, the steps outlined will work for any set of healpix maps.\n",
    "\n",
    "__Requirements:__ Follow the installation instructions for the ```hgmca``` package. This demo notebook also generates a fairly simple set of simluations using ```pysm```. ```pysm``` can be installed using the command ```pip install pysm3```, however for all the installation options see the [pysm website](https://pysm3.readthedocs.io/en/latest/)."
   ]
  },
  {
   "cell_type": "markdown",
   "metadata": {},
   "source": [
    "## Generate Healpix Maps\n",
    "\n",
    "First we have to generate our simulated maps that we will run our analysis on. For this we will use the built in functions of ```pysm```. Our mock observations will span the frequencies of the PLANCK satellite but with much lower resolution."
   ]
  },
  {
   "cell_type": "code",
   "execution_count": null,
   "metadata": {},
   "outputs": [],
   "source": [
    "# We want our maps to be output in micro K_CMB so the CMB prior is simple\n",
    "output_unit = 'uK_CMB'\n",
    "# We will preference models with spectral variations. See pysm3 documentation for description of these models.\n",
    "models = ['d2','s2','a1','f1','c1']\n",
    "# To showcase the flexibility of the HGMCA code, we will change the nside of our maps based on the frequency.\n",
    "sky_128 = pysm3.Sky(nside=128, preset_strings=models,output_unit=output_unit)\n",
    "sky_256 = pysm3.Sky(nside=256, preset_strings=models,output_unit=output_unit)"
   ]
  },
  {
   "cell_type": "code",
   "execution_count": null,
   "metadata": {},
   "outputs": [],
   "source": [
    "# Now we can make an input map dict. The path we pass in is aspirational at the moment. We will save the map\n",
    "# there in a moment.\n",
    "if not os.path.isdir(root_path + '/temp_data'):\n",
    "    os.mkdir(root_path + '/temp_data')\n",
    "def input_map_path(freq):\n",
    "    return root_path + '/temp_data/temp_map_%d_GHz.fits'%(freq)\n",
    "# fwhm is in units of arcmin\n",
    "input_maps_dict = {\n",
    "    '30':{'band_lim':350,'fwhm':33,'path':input_map_path(30),'nside':128},\n",
    "    '44':{'band_lim':350,'fwhm':24,'path':input_map_path(44),'nside':128},\n",
    "    '70':{'band_lim':512,'fwhm':20,'path':input_map_path(70),'nside':256},\n",
    "    '100':{'band_lim':600,'fwhm':20,'path':input_map_path(100),'nside':256},\n",
    "    '143':{'band_lim':600,'fwhm':20,'path':input_map_path(143),'nside':256},\n",
    "    '217':{'band_lim':600,'fwhm':20,'path':input_map_path(217),'nside':256},\n",
    "    '353':{'band_lim':600,'fwhm':20,'path':input_map_path(353),'nside':256},\n",
    "    '545':{'band_lim':600,'fwhm':20,'path':input_map_path(545),'nside':256},\n",
    "    '857':{'band_lim':600,'fwhm':20,'path':input_map_path(857),'nside':256}}"
   ]
  },
  {
   "cell_type": "code",
   "execution_count": null,
   "metadata": {
    "scrolled": false
   },
   "outputs": [],
   "source": [
    "# With the dict populated, we can iterate through it and produce our maps\n",
    "for freq in input_maps_dict:\n",
    "    if input_maps_dict[freq]['nside'] == 128:\n",
    "        freq_map = sky_128.get_emission(float(freq) * u.GHz)[0]\n",
    "    else:\n",
    "        freq_map = sky_256.get_emission(float(freq) * u.GHz)[0]\n",
    "    freq_map = hp.smoothing(freq_map,fwhm=input_maps_dict[freq]['fwhm']*a2r,\n",
    "                            lmax=input_maps_dict[freq]['band_lim'])\n",
    "    hp.write_map(input_maps_dict[freq]['path'],freq_map,dtype=np.float64,overwrite=True)"
   ]
  },
  {
   "cell_type": "code",
   "execution_count": null,
   "metadata": {},
   "outputs": [],
   "source": [
    "# And we have our simulated data! Let's take a look at one of our maps to make sure we're happy with\n",
    "# what we have.\n",
    "hp.mollview(hp.read_map(input_maps_dict['100']['path'],verbose=False,dtype=np.float64),\n",
    "            title='100 GHz Map',cmap=colombi1_cmap,unit='$\\mu K$',min=-300,max=300)"
   ]
  },
  {
   "cell_type": "markdown",
   "metadata": {},
   "source": [
    "## Run HGMCA\n",
    "With our simulated maps in hand, we can run the HGMCA algorithm. There are three basic steps:\n",
    "1. Convert the maps into wavelet coefficients using the WaveletsHGMCA class.\n",
    "2. Run the HGMCA analysis on the wavelet coefficients using the hgmca_opt function.\n",
    "3. Extract the source of interest (in our case the CMB) using the WaveletsHGMCA class.\n",
    "\n",
    "If instead of HGMCA we wanted to run MGMCA, all we would have to do is replace the WaveletsHGMCA class with the WaveletsMGMCA class and the hgmca_opt function with the mgmca function."
   ]
  },
  {
   "cell_type": "code",
   "execution_count": null,
   "metadata": {},
   "outputs": [],
   "source": [
    "# First we have to select the basic parameters of our analysis.\n",
    "# The integer used as a basis for scaling the wavelet functions\n",
    "scale_int = 3\n",
    "# The minimum wavelet scale to consider. The reamining information will be saved in the scaling coefficients.\n",
    "j_min = 1\n",
    "# The maximum level of subdivision to consider. Note that this will also be capped by the actual data (for example\n",
    "# an nside 256 map is limited to analysis level 5).\n",
    "m_level = 3\n",
    "# We need to specify a prefix to write the wavelet maps out to. If we pass the precomputed flag as true, it will\n",
    "# expect the maps to already be at that prefix. This is useful for large maps were the wavelet computation may take\n",
    "# some time.\n",
    "output_maps_prefix = root_path + '/temp_data/demo_'\n",
    "precomputed = False\n",
    "\n",
    "# We now pass these arguments into an instance of the WaveletsHGMCA class:\n",
    "wav_class = wavelets_hgmca.WaveletsHGMCA(m_level)\n",
    "\n",
    "wav_analysis_maps = wav_class.multifrequency_wavelet_maps(input_maps_dict,output_maps_prefix,scale_int,j_min,\n",
    "                                                          precomputed=precomputed)"
   ]
  },
  {
   "cell_type": "code",
   "execution_count": null,
   "metadata": {},
   "outputs": [],
   "source": [
    "# With that, we're done with step 1, converting the maps to wavelet coefficients. Next we want to run hgmca on our\n",
    "# maps.\n",
    "# The number of sources we want to extract from the data. Note this must be less than the number of frequencies.\n",
    "n_sources = 5\n",
    "# The number of epochs of hgmca to run (i.e. how many times to iterate over each level)\n",
    "n_epochs = 5\n",
    "# The number of iterations of gmca to run per epoch. A small number is appropriate here (order 100)\n",
    "n_iterations = 5\n",
    "# The strength of the prior in the hierarchy \n",
    "lam_hier = np.ones(n_sources) * 5e10\n",
    "# The strength of the global maixing matrix prior. This is how we'll impose the CMB constraint, so we want\n",
    "# this to be large\n",
    "lam_global = np.zeros(n_sources)\n",
    "lam_global[-1] = 1e14\n",
    "# The strength of our sparsity prior. \n",
    "lam_s = 50\n",
    "# Our global mixing matrix prior. The only column that matters here is the first column since we've set the lam_global\n",
    "# to 0 for all other sources. We want this to be the CMB, which should have no frequency dependence in units of\n",
    "# K_CMB\n",
    "A_global = np.ones((wav_analysis_maps['n_freqs'],n_sources))\n",
    "helpers.A_norm(A_global)\n",
    "# We can initilize all of the mixing matrices in our hierarchy to a specific value. We will not use that feautre\n",
    "# here\n",
    "A_init = None\n",
    "# Fixing the random seed is useful for the demo\n",
    "seed = 5\n",
    "# For CMB source seperation we want to enforce a non-negative mixing matrix. This doesn't mean that the sources\n",
    "# can't have negative components, just that a source cannot subtract itself (i.e. that sources are emitters\n",
    "# not absorbers).\n",
    "enforce_nn_A = True\n",
    "# Providing a non-zero min_rmse_rate means that ocassionally the hgmca algorithm will update to the minimum rmse\n",
    "# solution (the best source solution given the mixing matrix and no sparsity constraint). This ends up being a\n",
    "# useful trick for convergence, so we will use it here\n",
    "min_rmse_rate = 5\n",
    "# The save_dict specifies a location to save the outputs to and a rate at which to save the outputs. \n",
    "save_dict = {'save_path':root_path + '/temp_data','save_rate':2}\n",
    "\n",
    "# Now we can run the analysis. This can take ~5 minutes on a standard laptop.\n",
    "hgmca_analysis_maps = hgmca_core.hgmca_opt(wav_analysis_maps,n_sources,n_epochs,lam_hier,lam_s,n_iterations,\n",
    "                                           A_init=A_init,A_global=A_global,lam_global=lam_global,seed=seed,\n",
    "                                           enforce_nn_A=enforce_nn_A,min_rmse_rate=min_rmse_rate,save_dict=save_dict,\n",
    "                                           verbose=True)"
   ]
  },
  {
   "cell_type": "code",
   "execution_count": null,
   "metadata": {},
   "outputs": [],
   "source": [
    "# And finally we can reconstruct our maps using the output from the hgmca analysis. First we need to detect the cmb\n",
    "# in the mixing matrix of each of our patches\n",
    "A_cmb = A_global[:,0]\n",
    "wav_analysis_maps = hgmca_core.extract_source(hgmca_analysis_maps,A_cmb)\n",
    "\n",
    "# And now we can pass things back to our wavelet class and get our map\n",
    "output_maps_prefix_recon = root_path + '/temp_data/recon'\n",
    "cmb_map = wav_class.wavelet_maps_to_real(wav_analysis_maps,output_maps_prefix_recon)\n",
    "hp.mollview(cmb_map,title='CMB Reconstruction',cmap=colombi1_cmap,unit='$\\mu K$',min=-300,max=300)"
   ]
  },
  {
   "cell_type": "code",
   "execution_count": null,
   "metadata": {},
   "outputs": [],
   "source": []
  }
 ],
 "metadata": {
  "kernelspec": {
   "display_name": "Python 3",
   "language": "python",
   "name": "python3"
  },
  "language_info": {
   "codemirror_mode": {
    "name": "ipython",
    "version": 3
   },
   "file_extension": ".py",
   "mimetype": "text/x-python",
   "name": "python",
   "nbconvert_exporter": "python",
   "pygments_lexer": "ipython3",
   "version": "3.7.6"
  }
 },
 "nbformat": 4,
 "nbformat_minor": 4
}
